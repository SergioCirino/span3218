{
 "cells": [
  {
   "cell_type": "markdown",
   "id": "c8767191",
   "metadata": {},
   "source": [
    "## captura de texto e construção de txt"
   ]
  },
  {
   "cell_type": "code",
   "execution_count": null,
   "id": "39e17681",
   "metadata": {},
   "outputs": [],
   "source": [
    "import pandas as pd"
   ]
  },
  {
   "cell_type": "code",
   "execution_count": null,
   "id": "6d6e6e9a",
   "metadata": {},
   "outputs": [],
   "source": [
    "base = pd.read_excel('base.xlsx')\n",
    "display(base)"
   ]
  },
  {
   "cell_type": "code",
   "execution_count": null,
   "id": "fdafc37b",
   "metadata": {},
   "outputs": [],
   "source": [
    "nomes = ['sergio', 'maria', 'patricia']\n",
    "mensagem = base.loc[0,'MENSAGEM WHATSAPP']\n",
    "\n",
    "\n",
    "\n",
    "for pessoa in nomes:\n",
    "    tratando_mensagem = mensagem.replace('$NOME$', pessoa)\n",
    "    lista_mmensagens = tratando_mensagem.split('#quebra#')\n",
    "    print(pessoa)\n",
    "    print(lista_mmensagens[0])\n",
    "\n",
    "print(mensagem)"
   ]
  },
  {
   "cell_type": "code",
   "execution_count": null,
   "id": "8fd46c30",
   "metadata": {},
   "outputs": [],
   "source": [
    "mensagem = base.loc[0,'MENSAGEM WHATSAPP']\n",
    "print(mensagem)\n",
    "with open('mensagem.txt', 'w') as arquivo_mensagem:\n",
    "    arquivo_mensagem.write(mensagem)"
   ]
  },
  {
   "cell_type": "code",
   "execution_count": null,
   "id": "e0190c65",
   "metadata": {},
   "outputs": [],
   "source": [
    "with open('mensagem.txt', 'r') as preparando_para_envio:\n",
    "    preparando_para_envio = preparando_para_envio.read()\n",
    "print(preparando_para_envio)\n",
    "\n",
    "\n"
   ]
  },
  {
   "cell_type": "code",
   "execution_count": null,
   "id": "d5643a67",
   "metadata": {},
   "outputs": [],
   "source": [
    "nomes = ['sergio', 'maria', 'patricia']\n",
    "\n",
    "\n",
    "\n",
    "\n",
    "\n",
    "\n",
    "for pessoa in nomes:\n",
    "    tratando_mensagem = mensagem.replace('$NOME$', pessoa)\n",
    "    lista_mmensagens = tratando_mensagem.split('#quebra#')\n",
    "    print(pessoa)\n",
    "    print(lista_mmensagens[0])"
   ]
  },
  {
   "cell_type": "code",
   "execution_count": null,
   "id": "52dd7316",
   "metadata": {},
   "outputs": [],
   "source": []
  },
  {
   "cell_type": "code",
   "execution_count": null,
   "id": "e864f2bb",
   "metadata": {},
   "outputs": [],
   "source": []
  },
  {
   "cell_type": "code",
   "execution_count": null,
   "id": "7ebe743d",
   "metadata": {},
   "outputs": [],
   "source": []
  },
  {
   "cell_type": "code",
   "execution_count": null,
   "id": "4459e127",
   "metadata": {},
   "outputs": [],
   "source": []
  },
  {
   "cell_type": "code",
   "execution_count": null,
   "id": "8ca6a55c",
   "metadata": {},
   "outputs": [],
   "source": []
  }
 ],
 "metadata": {
  "kernelspec": {
   "display_name": "Python 3 (ipykernel)",
   "language": "python",
   "name": "python3"
  },
  "language_info": {
   "codemirror_mode": {
    "name": "ipython",
    "version": 3
   },
   "file_extension": ".py",
   "mimetype": "text/x-python",
   "name": "python",
   "nbconvert_exporter": "python",
   "pygments_lexer": "ipython3",
   "version": "3.9.7"
  }
 },
 "nbformat": 4,
 "nbformat_minor": 5
}
