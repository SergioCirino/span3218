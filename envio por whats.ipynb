{
 "cells": [
  {
   "cell_type": "markdown",
   "id": "83c0efaf",
   "metadata": {},
   "source": [
    "## IMPORTAÇÕES"
   ]
  },
  {
   "cell_type": "code",
   "execution_count": null,
   "id": "26f2fdec",
   "metadata": {},
   "outputs": [],
   "source": [
    "\n",
    "from selenium import webdriver\n",
    "from selenium.webdriver.chrome.service import Service\n",
    "from webdriver_manager.chrome import ChromeDriverManager\n",
    "from selenium.webdriver.common.by import By\n",
    "from selenium.webdriver.common.keys import Keys\n",
    "\n",
    "\n",
    "import time\n",
    "import pandas as pd\n",
    "import random\n",
    "from datetime import datetime\n",
    "\n",
    "\n",
    "\n"
   ]
  },
  {
   "cell_type": "markdown",
   "id": "093feefa",
   "metadata": {},
   "source": [
    "## FUNÇÕES DE APOIO\n"
   ]
  },
  {
   "cell_type": "code",
   "execution_count": 45,
   "id": "8fe17533",
   "metadata": {},
   "outputs": [
    {
     "name": "stdout",
     "output_type": "stream",
     "text": [
      "inicio em 20:24:18\n",
      "telefone de sergio pj capturado: 4254854445, pode tentar enviar a mensagem\n"
     ]
    },
    {
     "ename": "NameError",
     "evalue": "name 'NoSuchElementException' is not defined",
     "output_type": "error",
     "traceback": [
      "\u001b[1;31m---------------------------------------------------------------------------\u001b[0m",
      "\u001b[1;31mNoSuchElementException\u001b[0m                    Traceback (most recent call last)",
      "\u001b[1;32m~\\AppData\\Local\\Temp/ipykernel_10020/3539380935.py\u001b[0m in \u001b[0;36mprocura_contato\u001b[1;34m(nome, telefone)\u001b[0m\n\u001b[0;32m     11\u001b[0m     \u001b[1;32mtry\u001b[0m\u001b[1;33m:\u001b[0m\u001b[1;33m\u001b[0m\u001b[1;33m\u001b[0m\u001b[0m\n\u001b[1;32m---> 12\u001b[1;33m         \u001b[0mprimeiro_retorno\u001b[0m \u001b[1;33m=\u001b[0m \u001b[0mnavegador\u001b[0m\u001b[1;33m.\u001b[0m\u001b[0mfind_element\u001b[0m\u001b[1;33m(\u001b[0m\u001b[0mBy\u001b[0m\u001b[1;33m.\u001b[0m\u001b[0mCLASS_NAME\u001b[0m\u001b[1;33m,\u001b[0m \u001b[1;34m'_21S-L'\u001b[0m\u001b[1;33m)\u001b[0m\u001b[1;33m\u001b[0m\u001b[1;33m\u001b[0m\u001b[0m\n\u001b[0m\u001b[0;32m     13\u001b[0m         \u001b[0mprimeiro_retorno\u001b[0m\u001b[1;33m.\u001b[0m\u001b[0mclick\u001b[0m\u001b[1;33m(\u001b[0m\u001b[1;33m)\u001b[0m\u001b[1;33m\u001b[0m\u001b[1;33m\u001b[0m\u001b[0m\n",
      "\u001b[1;32m~\\anaconda3\\lib\\site-packages\\selenium\\webdriver\\remote\\webdriver.py\u001b[0m in \u001b[0;36mfind_element\u001b[1;34m(self, by, value)\u001b[0m\n\u001b[0;32m    740\u001b[0m \u001b[1;33m\u001b[0m\u001b[0m\n\u001b[1;32m--> 741\u001b[1;33m         \u001b[1;32mreturn\u001b[0m \u001b[0mself\u001b[0m\u001b[1;33m.\u001b[0m\u001b[0mexecute\u001b[0m\u001b[1;33m(\u001b[0m\u001b[0mCommand\u001b[0m\u001b[1;33m.\u001b[0m\u001b[0mFIND_ELEMENT\u001b[0m\u001b[1;33m,\u001b[0m \u001b[1;33m{\u001b[0m\u001b[1;34m\"using\"\u001b[0m\u001b[1;33m:\u001b[0m \u001b[0mby\u001b[0m\u001b[1;33m,\u001b[0m \u001b[1;34m\"value\"\u001b[0m\u001b[1;33m:\u001b[0m \u001b[0mvalue\u001b[0m\u001b[1;33m}\u001b[0m\u001b[1;33m)\u001b[0m\u001b[1;33m[\u001b[0m\u001b[1;34m\"value\"\u001b[0m\u001b[1;33m]\u001b[0m\u001b[1;33m\u001b[0m\u001b[1;33m\u001b[0m\u001b[0m\n\u001b[0m\u001b[0;32m    742\u001b[0m \u001b[1;33m\u001b[0m\u001b[0m\n",
      "\u001b[1;32m~\\anaconda3\\lib\\site-packages\\selenium\\webdriver\\remote\\webdriver.py\u001b[0m in \u001b[0;36mexecute\u001b[1;34m(self, driver_command, params)\u001b[0m\n\u001b[0;32m    346\u001b[0m         \u001b[1;32mif\u001b[0m \u001b[0mresponse\u001b[0m\u001b[1;33m:\u001b[0m\u001b[1;33m\u001b[0m\u001b[1;33m\u001b[0m\u001b[0m\n\u001b[1;32m--> 347\u001b[1;33m             \u001b[0mself\u001b[0m\u001b[1;33m.\u001b[0m\u001b[0merror_handler\u001b[0m\u001b[1;33m.\u001b[0m\u001b[0mcheck_response\u001b[0m\u001b[1;33m(\u001b[0m\u001b[0mresponse\u001b[0m\u001b[1;33m)\u001b[0m\u001b[1;33m\u001b[0m\u001b[1;33m\u001b[0m\u001b[0m\n\u001b[0m\u001b[0;32m    348\u001b[0m             \u001b[0mresponse\u001b[0m\u001b[1;33m[\u001b[0m\u001b[1;34m\"value\"\u001b[0m\u001b[1;33m]\u001b[0m \u001b[1;33m=\u001b[0m \u001b[0mself\u001b[0m\u001b[1;33m.\u001b[0m\u001b[0m_unwrap_value\u001b[0m\u001b[1;33m(\u001b[0m\u001b[0mresponse\u001b[0m\u001b[1;33m.\u001b[0m\u001b[0mget\u001b[0m\u001b[1;33m(\u001b[0m\u001b[1;34m\"value\"\u001b[0m\u001b[1;33m,\u001b[0m \u001b[1;32mNone\u001b[0m\u001b[1;33m)\u001b[0m\u001b[1;33m)\u001b[0m\u001b[1;33m\u001b[0m\u001b[1;33m\u001b[0m\u001b[0m\n",
      "\u001b[1;32m~\\anaconda3\\lib\\site-packages\\selenium\\webdriver\\remote\\errorhandler.py\u001b[0m in \u001b[0;36mcheck_response\u001b[1;34m(self, response)\u001b[0m\n\u001b[0;32m    228\u001b[0m             \u001b[1;32mraise\u001b[0m \u001b[0mexception_class\u001b[0m\u001b[1;33m(\u001b[0m\u001b[0mmessage\u001b[0m\u001b[1;33m,\u001b[0m \u001b[0mscreen\u001b[0m\u001b[1;33m,\u001b[0m \u001b[0mstacktrace\u001b[0m\u001b[1;33m,\u001b[0m \u001b[0malert_text\u001b[0m\u001b[1;33m)\u001b[0m  \u001b[1;31m# type: ignore[call-arg]  # mypy is not smart enough here\u001b[0m\u001b[1;33m\u001b[0m\u001b[1;33m\u001b[0m\u001b[0m\n\u001b[1;32m--> 229\u001b[1;33m         \u001b[1;32mraise\u001b[0m \u001b[0mexception_class\u001b[0m\u001b[1;33m(\u001b[0m\u001b[0mmessage\u001b[0m\u001b[1;33m,\u001b[0m \u001b[0mscreen\u001b[0m\u001b[1;33m,\u001b[0m \u001b[0mstacktrace\u001b[0m\u001b[1;33m)\u001b[0m\u001b[1;33m\u001b[0m\u001b[1;33m\u001b[0m\u001b[0m\n\u001b[0m",
      "\u001b[1;31mNoSuchElementException\u001b[0m: Message: no such element: Unable to locate element: {\"method\":\"css selector\",\"selector\":\"._21S-L\"}\n  (Session info: chrome=122.0.6261.112); For documentation on this error, please visit: https://www.selenium.dev/documentation/webdriver/troubleshooting/errors#no-such-element-exception\nStacktrace:\n\tGetHandleVerifier [0x00007FF714BEAD02+56930]\n\t(No symbol) [0x00007FF714B5F602]\n\t(No symbol) [0x00007FF714A142E5]\n\t(No symbol) [0x00007FF714A598ED]\n\t(No symbol) [0x00007FF714A59A2C]\n\t(No symbol) [0x00007FF714A9A967]\n\t(No symbol) [0x00007FF714A7BCDF]\n\t(No symbol) [0x00007FF714A981E2]\n\t(No symbol) [0x00007FF714A7BA43]\n\t(No symbol) [0x00007FF714A4D438]\n\t(No symbol) [0x00007FF714A4E4D1]\n\tGetHandleVerifier [0x00007FF714F66F8D+3711213]\n\tGetHandleVerifier [0x00007FF714FC04CD+4077101]\n\tGetHandleVerifier [0x00007FF714FB865F+4044735]\n\tGetHandleVerifier [0x00007FF714C89736+706710]\n\t(No symbol) [0x00007FF714B6B8DF]\n\t(No symbol) [0x00007FF714B66AC4]\n\t(No symbol) [0x00007FF714B66C1C]\n\t(No symbol) [0x00007FF714B568D4]\n\tBaseThreadInitThunk [0x00007FFB8EFD257D+29]\n\tRtlUserThreadStart [0x00007FFB90F2AA58+40]\n",
      "\nDuring handling of the above exception, another exception occurred:\n",
      "\u001b[1;31mNameError\u001b[0m                                 Traceback (most recent call last)",
      "\u001b[1;32m~\\AppData\\Local\\Temp/ipykernel_10020/3157630389.py\u001b[0m in \u001b[0;36m<module>\u001b[1;34m\u001b[0m\n\u001b[0;32m      8\u001b[0m \u001b[1;33m\u001b[0m\u001b[0m\n\u001b[0;32m      9\u001b[0m \u001b[1;33m\u001b[0m\u001b[0m\n\u001b[1;32m---> 10\u001b[1;33m             \u001b[0mprocura_contato\u001b[0m\u001b[1;33m(\u001b[0m\u001b[0mnome\u001b[0m\u001b[1;33m,\u001b[0m \u001b[0mtelefone\u001b[0m\u001b[1;33m)\u001b[0m\u001b[1;33m\u001b[0m\u001b[1;33m\u001b[0m\u001b[0m\n\u001b[0m\u001b[0;32m     11\u001b[0m \u001b[0mprint\u001b[0m\u001b[1;33m(\u001b[0m\u001b[1;34mf'concluido as {horario()}'\u001b[0m\u001b[1;33m)\u001b[0m\u001b[1;33m\u001b[0m\u001b[1;33m\u001b[0m\u001b[0m\n",
      "\u001b[1;32m~\\AppData\\Local\\Temp/ipykernel_10020/3539380935.py\u001b[0m in \u001b[0;36mprocura_contato\u001b[1;34m(nome, telefone)\u001b[0m\n\u001b[0;32m     12\u001b[0m         \u001b[0mprimeiro_retorno\u001b[0m \u001b[1;33m=\u001b[0m \u001b[0mnavegador\u001b[0m\u001b[1;33m.\u001b[0m\u001b[0mfind_element\u001b[0m\u001b[1;33m(\u001b[0m\u001b[0mBy\u001b[0m\u001b[1;33m.\u001b[0m\u001b[0mCLASS_NAME\u001b[0m\u001b[1;33m,\u001b[0m \u001b[1;34m'_21S-L'\u001b[0m\u001b[1;33m)\u001b[0m\u001b[1;33m\u001b[0m\u001b[1;33m\u001b[0m\u001b[0m\n\u001b[0;32m     13\u001b[0m         \u001b[0mprimeiro_retorno\u001b[0m\u001b[1;33m.\u001b[0m\u001b[0mclick\u001b[0m\u001b[1;33m(\u001b[0m\u001b[1;33m)\u001b[0m\u001b[1;33m\u001b[0m\u001b[1;33m\u001b[0m\u001b[0m\n\u001b[1;32m---> 14\u001b[1;33m     \u001b[1;32mexcept\u001b[0m \u001b[0mNoSuchElementException\u001b[0m\u001b[1;33m:\u001b[0m\u001b[1;33m\u001b[0m\u001b[1;33m\u001b[0m\u001b[0m\n\u001b[0m\u001b[0;32m     15\u001b[0m         \u001b[0mprint\u001b[0m\u001b[1;33m(\u001b[0m\u001b[1;34m'Não rolou'\u001b[0m\u001b[1;33m)\u001b[0m\u001b[1;33m\u001b[0m\u001b[1;33m\u001b[0m\u001b[0m\n\u001b[0;32m     16\u001b[0m \u001b[1;33m\u001b[0m\u001b[0m\n",
      "\u001b[1;31mNameError\u001b[0m: name 'NoSuchElementException' is not defined"
     ]
    }
   ],
   "source": [
    "print(f'inicio em {horario()}')\n",
    "for cliente in base.index:\n",
    "    nome = base.loc[cliente, 'NOME']\n",
    "    lista_telefones = base.loc[cliente,'TELEFONES'].split(',')\n",
    "    for telefone in lista_telefones:\n",
    "        if telefone != '':\n",
    "            print(f'telefone de {nome} capturado: {telefone.replace(\"(\",\"\").replace(\")\", \"\").replace(\" \", \"\")}, pode tentar enviar a mensagem')\n",
    "\n",
    "            \n",
    "            procura_contato(nome, telefone)\n",
    "print(f'concluido as {horario()}')"
   ]
  },
  {
   "cell_type": "code",
   "execution_count": 44,
   "id": "3fab94ed",
   "metadata": {},
   "outputs": [],
   "source": [
    "def procura_contato(nome, telefone):\n",
    "    time.sleep(0.5)\n",
    "    cancela_busca = navegador.find_elements(By.XPATH, '//*[@id=\"side\"]/div[1]/div/div[2]/span/button/span')\n",
    "    if len(cancela_busca) > 0:\n",
    "        time.sleep(1.5)\n",
    "        navegador.find_element(By.XPATH, '//*[@id=\"side\"]/div[1]/div/div[2]/span/button/span').click()\n",
    "    \n",
    "    campo_pesquisa = navegador.find_element(By.CLASS_NAME, 'iq0m558w ')\n",
    "    campo_pesquisa.send_keys(telefone)\n",
    "    \n",
    "    try:\n",
    "        if navegador.find_element(By.CLASS_NAME, '_21S-L') ,\n",
    "        \n",
    "        ,,\n",
    "        \n",
    "        primeiro_retorno = navegador.find_element(By.CLASS_NAME, '_21S-L')\n",
    "        primeiro_retorno.click()        \n",
    "    except NoSuchElementException:\n",
    "        print('Não rolou')\n",
    "\n",
    "\n",
    "def envia_mensagem(texto):\n",
    "    secciona_mensagem = texto.split('#quebra#')\n",
    "    for pedaco in secciona_mensagem:\n",
    "        quebra_popup()\n",
    "        navegador.find_element(By.CLASS_NAME, '_3Uu1_').send_keys(pedaco, Keys.ENTER)\n",
    "        time.sleep(1.5)   \n",
    "        \n",
    "#         navegador.find_element(By.CLASS_NAME, '_3XKXx').click()\n",
    "        time.sleep(random.randrange(1,6,1))\n",
    "\n",
    "def quebra_popup():\n",
    "    if(len(navegador.find_elements(By.CLASS_NAME, 'r6au09pb'))>0):\n",
    "        time.sleep(0.3)\n",
    "        navegador.find_element(By.XPATH, '//*[@id=\"app\"]/div/span[2]/div/div/div/div/div/div/div[3]/div/button/div/div').click()\n",
    "\n",
    "def horario():\n",
    "    from datetime import datetime\n",
    "\n",
    "    # Obtenha o horário atual\n",
    "    horario_atual = datetime.now()\n",
    "\n",
    "    # Imprima o horário atual\n",
    "    return horario_atual.strftime('%H:%M:%S')\n",
    "    \n"
   ]
  },
  {
   "cell_type": "markdown",
   "id": "feb472fd",
   "metadata": {},
   "source": [
    "## DEFINIÇÃO DE VARIAVEIS"
   ]
  },
  {
   "cell_type": "code",
   "execution_count": null,
   "id": "58efe571",
   "metadata": {},
   "outputs": [],
   "source": [
    "nome = ''\n",
    "telefone = '1155415865'\n",
    "\n",
    "# mensagem = f'''\n",
    "# Cliente {nome}, somos da CAIXA - Agência Santo Eduardo do Embu, tudo bem?\n",
    "# #quebra#\n",
    "# Você que é beneficiário do LOAS pelo INSS, faça o desbloqueio do seu benefício no INSS e aproveite para fazer seu crédito consignado CAIXA com as menores taxas do  mercado.     \n",
    "# #quebra#                                    \n",
    "# Além disso, você pode ter um cartão de crédito CAIXA sem anuidade e com juros reduzidos.\n",
    "# #quebra#\n",
    "# Caso tenha interesse, responda esta mensagem ou compareça diretamente na agência sem pegar fila procurando por nossos gerentes Níger ou Aldecir.\n",
    "# #quebra#\n",
    "# Atenciosamente CAIXA - Agência Santo Eduardo do Embu - Av. João Paulo II, 1344 - Jardim Santa Tereza - Embu das Artes - SP \n",
    "# #quebra#\n",
    "# Lembrando que em breve estaremos novamente no bairro do Santo Eduardo, próximo à Drogaria São Paulo.'''\n",
    "\n",
    "\n"
   ]
  },
  {
   "cell_type": "markdown",
   "id": "5fbad38c",
   "metadata": {},
   "source": [
    "## IMPORTA E TRATA A BASE"
   ]
  },
  {
   "cell_type": "code",
   "execution_count": null,
   "id": "934549d8",
   "metadata": {},
   "outputs": [],
   "source": [
    "base = pd.read_excel('baseteste.xlsx')\n",
    "base.columns = base.iloc[2]\n",
    "base = base[3:]\n",
    "base = base.reset_index(drop=True)\n",
    "\n",
    "# display(base)\n",
    "contatados = pd.DataFrame(columns = ['NOME NO CELULAR', 'TELEFONE', 'STATUS WHATSAPP'])\n",
    "status = base.loc[0,'STATUS WHATSAPP']\n",
    "print(pd.isna(status))\n",
    "display(base)"
   ]
  },
  {
   "cell_type": "markdown",
   "id": "56e43d47",
   "metadata": {},
   "source": [
    "## CHAMADA DE NAVEGADOR"
   ]
  },
  {
   "cell_type": "code",
   "execution_count": null,
   "id": "9cc55a08",
   "metadata": {},
   "outputs": [],
   "source": [
    "servico = Service(version= '122')\n",
    "caminho_perfil = r'C:\\Users\\serci\\AppData\\Local\\Google\\Chrome\\User Data\\Profile Selenium'\n",
    "options = webdriver.ChromeOptions()\n",
    "options.add_argument(f'user-data-dir={caminho_perfil}')\n",
    "\n",
    "navegador = webdriver.Chrome(service=servico, options = options)\n",
    "navegador.get('https://web.whatsapp.com/')"
   ]
  },
  {
   "cell_type": "markdown",
   "id": "0f751ae8",
   "metadata": {},
   "source": [
    "  ## VARRE A BASE ENVIANDO MENSAGENS    "
   ]
  },
  {
   "cell_type": "code",
   "execution_count": null,
   "id": "6162e83d",
   "metadata": {},
   "outputs": [],
   "source": [
    "display(base)\n"
   ]
  },
  {
   "cell_type": "markdown",
   "id": "3750bd26",
   "metadata": {},
   "source": [
    "\n",
    "        \n",
    "        \n",
    "chrome://version\n"
   ]
  }
 ],
 "metadata": {
  "kernelspec": {
   "display_name": "Python 3 (ipykernel)",
   "language": "python",
   "name": "python3"
  },
  "language_info": {
   "codemirror_mode": {
    "name": "ipython",
    "version": 3
   },
   "file_extension": ".py",
   "mimetype": "text/x-python",
   "name": "python",
   "nbconvert_exporter": "python",
   "pygments_lexer": "ipython3",
   "version": "3.9.7"
  }
 },
 "nbformat": 4,
 "nbformat_minor": 5
}
