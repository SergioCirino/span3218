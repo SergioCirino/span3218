{
 "cells": [
  {
   "cell_type": "markdown",
   "id": "76dbac90",
   "metadata": {},
   "source": [
    "## Importação de bibliotecas"
   ]
  },
  {
   "cell_type": "code",
   "execution_count": 15,
   "id": "c153e8d6",
   "metadata": {},
   "outputs": [],
   "source": [
    "from selenium import webdriver\n",
    "from selenium.webdriver.chrome.service import Service\n",
    "from webdriver_manager.chrome import ChromeDriverManager\n",
    "from selenium.webdriver.common.by import By\n",
    "from selenium.webdriver.common.keys import Keys\n",
    "\n",
    "\n",
    "import time\n",
    "import pandas as pd\n",
    "import random\n",
    "from datetime import datetime\n"
   ]
  },
  {
   "cell_type": "markdown",
   "id": "d9ddd2d8",
   "metadata": {},
   "source": [
    "## Importação e tratamento da base"
   ]
  },
  {
   "cell_type": "code",
   "execution_count": 16,
   "id": "08f1ea1f",
   "metadata": {},
   "outputs": [
    {
     "name": "stdout",
     "output_type": "stream",
     "text": [
      "True\n"
     ]
    },
    {
     "data": {
      "text/html": [
       "<div>\n",
       "<style scoped>\n",
       "    .dataframe tbody tr th:only-of-type {\n",
       "        vertical-align: middle;\n",
       "    }\n",
       "\n",
       "    .dataframe tbody tr th {\n",
       "        vertical-align: top;\n",
       "    }\n",
       "\n",
       "    .dataframe thead th {\n",
       "        text-align: right;\n",
       "    }\n",
       "</style>\n",
       "<table border=\"1\" class=\"dataframe\">\n",
       "  <thead>\n",
       "    <tr style=\"text-align: right;\">\n",
       "      <th>2</th>\n",
       "      <th>CPF / CNPJ</th>\n",
       "      <th>TELEFONES</th>\n",
       "      <th>EMAIL</th>\n",
       "      <th>NOME NO CELULAR</th>\n",
       "      <th>NOME</th>\n",
       "      <th>STATUS WHATSAPP</th>\n",
       "      <th>STATUS EMAIL</th>\n",
       "    </tr>\n",
       "  </thead>\n",
       "  <tbody>\n",
       "    <tr>\n",
       "      <th>0</th>\n",
       "      <td>NaN</td>\n",
       "      <td>55415865, 4254854445, 11982662870</td>\n",
       "      <td>NaN</td>\n",
       "      <td>NaN</td>\n",
       "      <td>sergio pj</td>\n",
       "      <td>NaN</td>\n",
       "      <td>NaN</td>\n",
       "    </tr>\n",
       "    <tr>\n",
       "      <th>1</th>\n",
       "      <td>NaN</td>\n",
       "      <td>43215432, 11951496374</td>\n",
       "      <td>NaN</td>\n",
       "      <td>NaN</td>\n",
       "      <td>Yasminzinha Mini</td>\n",
       "      <td>NaN</td>\n",
       "      <td>NaN</td>\n",
       "    </tr>\n",
       "    <tr>\n",
       "      <th>2</th>\n",
       "      <td>NaN</td>\n",
       "      <td>23456789, 11981317092</td>\n",
       "      <td>NaN</td>\n",
       "      <td>NaN</td>\n",
       "      <td>Rog gério</td>\n",
       "      <td>NaN</td>\n",
       "      <td>NaN</td>\n",
       "    </tr>\n",
       "  </tbody>\n",
       "</table>\n",
       "</div>"
      ],
      "text/plain": [
       "2 CPF / CNPJ                          TELEFONES EMAIL NOME NO CELULAR  \\\n",
       "0        NaN  55415865, 4254854445, 11982662870   NaN             NaN   \n",
       "1        NaN              43215432, 11951496374   NaN             NaN   \n",
       "2        NaN              23456789, 11981317092   NaN             NaN   \n",
       "\n",
       "2              NOME STATUS WHATSAPP STATUS EMAIL  \n",
       "0         sergio pj             NaN          NaN  \n",
       "1  Yasminzinha Mini             NaN          NaN  \n",
       "2         Rog gério             NaN          NaN  "
      ]
     },
     "metadata": {},
     "output_type": "display_data"
    }
   ],
   "source": [
    "base = pd.read_excel('baseteste.xlsx')\n",
    "base.columns = base.iloc[2]\n",
    "base = base[3:]\n",
    "base = base.reset_index(drop=True)\n",
    "\n",
    "# display(base)\n",
    "contatados = pd.DataFrame(columns = ['NOME NO CELULAR', 'TELEFONE', 'STATUS WHATSAPP'])\n",
    "status = base.loc[0,'STATUS WHATSAPP']\n",
    "print(pd.isna(status))\n",
    "display(base)"
   ]
  },
  {
   "cell_type": "markdown",
   "id": "0b09bfb3",
   "metadata": {},
   "source": [
    "## Abertura de navegador"
   ]
  },
  {
   "cell_type": "code",
   "execution_count": 17,
   "id": "d428e305",
   "metadata": {},
   "outputs": [],
   "source": [
    "servico = Service(version= '122')\n",
    "caminho_perfil = r'C:\\Users\\serci\\AppData\\Local\\Google\\Chrome\\User Data\\Profile Selenium'\n",
    "options = webdriver.ChromeOptions()\n",
    "options.add_argument(f'user-data-dir={caminho_perfil}')\n",
    "\n",
    "navegador = webdriver.Chrome(service=servico, options = options)\n",
    "navegador.get('https://web.whatsapp.com/')"
   ]
  },
  {
   "cell_type": "markdown",
   "id": "9bd2f73f",
   "metadata": {},
   "source": [
    "## Definição de funções"
   ]
  },
  {
   "cell_type": "code",
   "execution_count": 20,
   "id": "d6075771",
   "metadata": {},
   "outputs": [],
   "source": [
    "def procura_contato(nome, telefone):\n",
    "    print(f'aqui estou enviando para {nome} a mensagem no telefone {telefone}\\n')\n",
    "    telefone = '55415865'\n",
    "    campo_de_busca = navegador.find_elements(By.XPATH, '//*[@id=\"side\"]/div[1]/div/div[2]/span/button/span')\n",
    "    while len(campo_de_busca) == 0:\n",
    "        time.sleep(0.5)\n",
    "    campo_de_busca = navegador.find_element(By.XPATH, '//*[@id=\"side\"]/div[1]/div/div[2]/span/button/span')\n",
    "    campo_de_busca.click()\n",
    "   \n",
    "        \n",
    "    \n",
    "def horario():\n",
    "    # Obtenha o horário atual\n",
    "    horario_atual = datetime.now()\n",
    "\n",
    "    # Imprima o horário atual\n",
    "    return horario_atual.strftime('%H:%M:%S')"
   ]
  },
  {
   "cell_type": "markdown",
   "id": "a6398d75",
   "metadata": {},
   "source": [
    "## Varrer a base enviando mensagens"
   ]
  },
  {
   "cell_type": "code",
   "execution_count": 23,
   "id": "a88aa9d7",
   "metadata": {},
   "outputs": [
    {
     "name": "stdout",
     "output_type": "stream",
     "text": [
      "inicio em 21:27:20\n",
      "telefone de sergio pj capturado: 55415865, pode tentar enviar a mensagem\n",
      "aqui estou enviando para sergio pj a mensagem no telefone 55415865\n",
      "\n"
     ]
    },
    {
     "ename": "KeyboardInterrupt",
     "evalue": "",
     "output_type": "error",
     "traceback": [
      "\u001b[1;31m---------------------------------------------------------------------------\u001b[0m",
      "\u001b[1;31mKeyboardInterrupt\u001b[0m                         Traceback (most recent call last)",
      "\u001b[1;32m~\\AppData\\Local\\Temp/ipykernel_12496/3157630389.py\u001b[0m in \u001b[0;36m<module>\u001b[1;34m\u001b[0m\n\u001b[0;32m      8\u001b[0m \u001b[1;33m\u001b[0m\u001b[0m\n\u001b[0;32m      9\u001b[0m \u001b[1;33m\u001b[0m\u001b[0m\n\u001b[1;32m---> 10\u001b[1;33m             \u001b[0mprocura_contato\u001b[0m\u001b[1;33m(\u001b[0m\u001b[0mnome\u001b[0m\u001b[1;33m,\u001b[0m \u001b[0mtelefone\u001b[0m\u001b[1;33m)\u001b[0m\u001b[1;33m\u001b[0m\u001b[1;33m\u001b[0m\u001b[0m\n\u001b[0m\u001b[0;32m     11\u001b[0m \u001b[0mprint\u001b[0m\u001b[1;33m(\u001b[0m\u001b[1;34mf'concluido as {horario()}'\u001b[0m\u001b[1;33m)\u001b[0m\u001b[1;33m\u001b[0m\u001b[1;33m\u001b[0m\u001b[0m\n",
      "\u001b[1;32m~\\AppData\\Local\\Temp/ipykernel_12496/3238887523.py\u001b[0m in \u001b[0;36mprocura_contato\u001b[1;34m(nome, telefone)\u001b[0m\n\u001b[0;32m      4\u001b[0m     \u001b[0mcampo_de_busca\u001b[0m \u001b[1;33m=\u001b[0m \u001b[0mnavegador\u001b[0m\u001b[1;33m.\u001b[0m\u001b[0mfind_elements\u001b[0m\u001b[1;33m(\u001b[0m\u001b[0mBy\u001b[0m\u001b[1;33m.\u001b[0m\u001b[0mXPATH\u001b[0m\u001b[1;33m,\u001b[0m \u001b[1;34m'//*[@id=\"side\"]/div[1]/div/div[2]/span/button/span'\u001b[0m\u001b[1;33m)\u001b[0m\u001b[1;33m\u001b[0m\u001b[1;33m\u001b[0m\u001b[0m\n\u001b[0;32m      5\u001b[0m     \u001b[1;32mwhile\u001b[0m \u001b[0mlen\u001b[0m\u001b[1;33m(\u001b[0m\u001b[0mcampo_de_busca\u001b[0m\u001b[1;33m)\u001b[0m \u001b[1;33m==\u001b[0m \u001b[1;36m0\u001b[0m\u001b[1;33m:\u001b[0m\u001b[1;33m\u001b[0m\u001b[1;33m\u001b[0m\u001b[0m\n\u001b[1;32m----> 6\u001b[1;33m         \u001b[0mtime\u001b[0m\u001b[1;33m.\u001b[0m\u001b[0msleep\u001b[0m\u001b[1;33m(\u001b[0m\u001b[1;36m0.5\u001b[0m\u001b[1;33m)\u001b[0m\u001b[1;33m\u001b[0m\u001b[1;33m\u001b[0m\u001b[0m\n\u001b[0m\u001b[0;32m      7\u001b[0m     \u001b[0mcampo_de_busca\u001b[0m \u001b[1;33m=\u001b[0m \u001b[0mnavegador\u001b[0m\u001b[1;33m.\u001b[0m\u001b[0mfind_element\u001b[0m\u001b[1;33m(\u001b[0m\u001b[0mBy\u001b[0m\u001b[1;33m.\u001b[0m\u001b[0mXPATH\u001b[0m\u001b[1;33m,\u001b[0m \u001b[1;34m'//*[@id=\"side\"]/div[1]/div/div[2]/span/button/span'\u001b[0m\u001b[1;33m)\u001b[0m\u001b[1;33m\u001b[0m\u001b[1;33m\u001b[0m\u001b[0m\n\u001b[0;32m      8\u001b[0m     \u001b[0mcampo_de_busca\u001b[0m\u001b[1;33m.\u001b[0m\u001b[0mclick\u001b[0m\u001b[1;33m(\u001b[0m\u001b[1;33m)\u001b[0m\u001b[1;33m\u001b[0m\u001b[1;33m\u001b[0m\u001b[0m\n",
      "\u001b[1;31mKeyboardInterrupt\u001b[0m: "
     ]
    }
   ],
   "source": [
    "print(f'inicio em {horario()}')\n",
    "for cliente in base.index:\n",
    "    nome = base.loc[cliente, 'NOME']\n",
    "    lista_telefones = base.loc[cliente,'TELEFONES'].split(',')\n",
    "    for telefone in lista_telefones:\n",
    "        if telefone != '':\n",
    "            print(f'telefone de {nome} capturado: {telefone.replace(\"(\",\"\").replace(\")\", \"\").replace(\" \", \"\")}, pode tentar enviar a mensagem')\n",
    "\n",
    "            \n",
    "            procura_contato(nome, telefone)\n",
    "print(f'concluido as {horario()}')"
   ]
  },
  {
   "cell_type": "code",
   "execution_count": null,
   "id": "98bab719",
   "metadata": {},
   "outputs": [],
   "source": []
  },
  {
   "cell_type": "code",
   "execution_count": null,
   "id": "3e381498",
   "metadata": {},
   "outputs": [],
   "source": []
  },
  {
   "cell_type": "code",
   "execution_count": null,
   "id": "76a62e2a",
   "metadata": {},
   "outputs": [],
   "source": []
  },
  {
   "cell_type": "code",
   "execution_count": null,
   "id": "34dd8d80",
   "metadata": {},
   "outputs": [],
   "source": []
  },
  {
   "cell_type": "code",
   "execution_count": null,
   "id": "254004c5",
   "metadata": {},
   "outputs": [],
   "source": []
  },
  {
   "cell_type": "code",
   "execution_count": null,
   "id": "27c466bc",
   "metadata": {},
   "outputs": [],
   "source": []
  }
 ],
 "metadata": {
  "kernelspec": {
   "display_name": "Python 3 (ipykernel)",
   "language": "python",
   "name": "python3"
  },
  "language_info": {
   "codemirror_mode": {
    "name": "ipython",
    "version": 3
   },
   "file_extension": ".py",
   "mimetype": "text/x-python",
   "name": "python",
   "nbconvert_exporter": "python",
   "pygments_lexer": "ipython3",
   "version": "3.9.7"
  }
 },
 "nbformat": 4,
 "nbformat_minor": 5
}
