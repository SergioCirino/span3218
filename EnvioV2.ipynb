{
 "cells": [
  {
   "cell_type": "markdown",
   "id": "76dbac90",
   "metadata": {},
   "source": [
    "## Importação de bibliotecas"
   ]
  },
  {
   "cell_type": "code",
   "execution_count": 102,
   "id": "c153e8d6",
   "metadata": {},
   "outputs": [],
   "source": [
    "from selenium import webdriver\n",
    "from selenium.webdriver.chrome.service import Service\n",
    "from webdriver_manager.chrome import ChromeDriverManager\n",
    "from selenium.webdriver.common.by import By\n",
    "from selenium.webdriver.common.keys import Keys\n",
    "from selenium.webdriver.support import expected_conditions as EC\n",
    "from selenium.webdriver.support.ui import WebDriverWait\n",
    "\n",
    "\n",
    "import time\n",
    "import pandas as pd\n",
    "import random\n",
    "from datetime import datetime\n"
   ]
  },
  {
   "cell_type": "markdown",
   "id": "d9ddd2d8",
   "metadata": {},
   "source": [
    "## Importação e tratamento da base"
   ]
  },
  {
   "cell_type": "code",
   "execution_count": 103,
   "id": "08f1ea1f",
   "metadata": {},
   "outputs": [
    {
     "name": "stdout",
     "output_type": "stream",
     "text": [
      "True\n"
     ]
    },
    {
     "data": {
      "text/html": [
       "<div>\n",
       "<style scoped>\n",
       "    .dataframe tbody tr th:only-of-type {\n",
       "        vertical-align: middle;\n",
       "    }\n",
       "\n",
       "    .dataframe tbody tr th {\n",
       "        vertical-align: top;\n",
       "    }\n",
       "\n",
       "    .dataframe thead th {\n",
       "        text-align: right;\n",
       "    }\n",
       "</style>\n",
       "<table border=\"1\" class=\"dataframe\">\n",
       "  <thead>\n",
       "    <tr style=\"text-align: right;\">\n",
       "      <th>2</th>\n",
       "      <th>CPF / CNPJ</th>\n",
       "      <th>TELEFONES</th>\n",
       "      <th>EMAIL</th>\n",
       "      <th>NOME NO CELULAR</th>\n",
       "      <th>NOME</th>\n",
       "      <th>STATUS WHATSAPP</th>\n",
       "      <th>STATUS EMAIL</th>\n",
       "    </tr>\n",
       "  </thead>\n",
       "  <tbody>\n",
       "    <tr>\n",
       "      <th>0</th>\n",
       "      <td>NaN</td>\n",
       "      <td>55415865, 4254854445, 11982662870</td>\n",
       "      <td>NaN</td>\n",
       "      <td>NaN</td>\n",
       "      <td>sergio pj</td>\n",
       "      <td>NaN</td>\n",
       "      <td>NaN</td>\n",
       "    </tr>\n",
       "    <tr>\n",
       "      <th>1</th>\n",
       "      <td>NaN</td>\n",
       "      <td>43215432, 11951496374</td>\n",
       "      <td>NaN</td>\n",
       "      <td>NaN</td>\n",
       "      <td>Yasminzinha Mini</td>\n",
       "      <td>NaN</td>\n",
       "      <td>NaN</td>\n",
       "    </tr>\n",
       "    <tr>\n",
       "      <th>2</th>\n",
       "      <td>NaN</td>\n",
       "      <td>23456789, 11981317092</td>\n",
       "      <td>NaN</td>\n",
       "      <td>NaN</td>\n",
       "      <td>Rog gério</td>\n",
       "      <td>NaN</td>\n",
       "      <td>NaN</td>\n",
       "    </tr>\n",
       "  </tbody>\n",
       "</table>\n",
       "</div>"
      ],
      "text/plain": [
       "2 CPF / CNPJ                          TELEFONES EMAIL NOME NO CELULAR  \\\n",
       "0        NaN  55415865, 4254854445, 11982662870   NaN             NaN   \n",
       "1        NaN              43215432, 11951496374   NaN             NaN   \n",
       "2        NaN              23456789, 11981317092   NaN             NaN   \n",
       "\n",
       "2              NOME STATUS WHATSAPP STATUS EMAIL  \n",
       "0         sergio pj             NaN          NaN  \n",
       "1  Yasminzinha Mini             NaN          NaN  \n",
       "2         Rog gério             NaN          NaN  "
      ]
     },
     "metadata": {},
     "output_type": "display_data"
    }
   ],
   "source": [
    "base = pd.read_excel('baseteste.xlsx')\n",
    "base.columns = base.iloc[2]\n",
    "base = base[3:]\n",
    "base = base.reset_index(drop=True)\n",
    "\n",
    "# display(base)\n",
    "contatados = pd.DataFrame(columns = ['NOME NO CELULAR', 'TELEFONE', 'STATUS WHATSAPP'])\n",
    "status = base.loc[0,'STATUS WHATSAPP']\n",
    "display(base)"
   ]
  },
  {
   "cell_type": "markdown",
   "id": "0b09bfb3",
   "metadata": {},
   "source": [
    "## Abertura de navegador"
   ]
  },
  {
   "cell_type": "code",
   "execution_count": 105,
   "id": "d428e305",
   "metadata": {},
   "outputs": [
    {
     "name": "stdout",
     "output_type": "stream",
     "text": [
      "segue\n"
     ]
    }
   ],
   "source": [
    "servico = Service(version= '122')\n",
    "caminho_perfil = r'C:\\Users\\serci\\AppData\\Local\\Google\\Chrome\\User Data\\Profile Selenium'\n",
    "options = webdriver.ChromeOptions()\n",
    "options.add_argument(f'user-data-dir={caminho_perfil}')\n",
    "\n",
    "navegador = webdriver.Chrome(service=servico, options = options)\n",
    "navegador.get('https://web.whatsapp.com/')\n",
    "while len(navegador.find_elements(By.CLASS_NAME, 'selectable-text')) == 0:\n",
    "    time.sleep(1)"
   ]
  },
  {
   "cell_type": "markdown",
   "id": "9bd2f73f",
   "metadata": {},
   "source": [
    "## Definição de funções"
   ]
  },
  {
   "cell_type": "code",
   "execution_count": 106,
   "id": "d6075771",
   "metadata": {},
   "outputs": [],
   "source": [
    "\n",
    "\n",
    "\n",
    "def procura_contato(nome, telefone):\n",
    "    campo_de_busca = navegador.find_element(By.CLASS_NAME, 'selectable-text')\n",
    "    campo_de_busca.send_keys(Keys.CONTROL, 'a')\n",
    "    campo_de_busca.send_keys(telefone)\n",
    "    time.sleep(1)\n",
    "    contato = navegador.find_elements(By.CLASS_NAME, '_21S-L')\n",
    "    \n",
    "    mensagem = f'''\n",
    "Cliente {nome}, somos da CAIXA - Agência Santo Eduardo do Embu, tudo bem?\n",
    "#quebra#\n",
    "Você que é beneficiário do BPC pelo INSS, faça o desbloqueio do seu benefício no INSS e aproveite para fazer seu crédito consignado CAIXA com as menores taxas do  mercado.     \n",
    "#quebra#                                    \n",
    "Além disso, você pode ter um cartão de crédito CAIXA sem anuidade e com juros reduzidos.\n",
    "#quebra#\n",
    "Caso tenha interesse, responda esta mensagem ou compareça diretamente na agência sem pegar fila procurando por nossos gerentes Níger ou Aldecir.\n",
    "#quebra#\n",
    "Atenciosamente CAIXA - Agência Santo Eduardo do Embu - Av. João Paulo II, 1344 - Jardim Santa Tereza - Embu das Artes - SP \n",
    "#quebra#\n",
    "Lembrando que em breve estaremos novamente no bairro do Santo Eduardo, próximo à Drogaria São Paulo.\n",
    "'''\n",
    "    if len(contato)> 0:\n",
    "        contato[0].click()\n",
    "        envia_mensagem(mensagem)\n",
    "        retorna_status('enviado, ')\n",
    "        return\n",
    "    else:\n",
    "        retorna_status('tel sem whats,')\n",
    "\n",
    "def horario():\n",
    "    # Obtenha o horário atual\n",
    "    horario_atual = datetime.now()\n",
    "    # Imprima o horário atual\n",
    "    return horario_atual.strftime('%H:%M')\n",
    "\n",
    "def envia_mensagem(texto):\n",
    "    secciona_mensagem = texto.split('#quebra#')\n",
    "    for pedaco in secciona_mensagem:\n",
    "        navegador.find_element(By.CLASS_NAME, '_3Uu1_').send_keys(pedaco, Keys.ENTER)\n",
    "        time.sleep(1.5)   \n",
    "        time.sleep(random.randrange(1,6,1))\n",
    "def retorna_status(texto):\n",
    "    status = base.loc[cliente, 'STATUS WHATSAPP']\n",
    "    if pd.isna(status):\n",
    "        status = texto\n",
    "    else:\n",
    "        status = status + texto\n",
    "    base.loc[cliente, 'STATUS WHATSAPP'] = status\n",
    "    "
   ]
  },
  {
   "cell_type": "markdown",
   "id": "a6398d75",
   "metadata": {},
   "source": [
    "## Varrer a base enviando mensagens"
   ]
  },
  {
   "cell_type": "code",
   "execution_count": 107,
   "id": "a88aa9d7",
   "metadata": {},
   "outputs": [
    {
     "name": "stdout",
     "output_type": "stream",
     "text": [
      "inicio em 23:46\n",
      "\n",
      "aqui estou enviando para sergio pj a mensagem no telefone 55415865\n",
      "deu 1\n",
      "deu 2\n",
      "deu 3\n",
      "\n",
      "aqui estou enviando para sergio pj a mensagem no telefone  4254854445\n",
      "deu 1\n",
      "deu 2\n",
      "deu 3\n",
      "\n",
      "aqui estou enviando para sergio pj a mensagem no telefone  11982662870\n",
      "deu 1\n",
      "deu 2\n",
      "deu 3\n",
      "\n",
      "aqui estou enviando para Yasminzinha Mini a mensagem no telefone 43215432\n",
      "deu 1\n",
      "deu 2\n",
      "deu 3\n",
      "\n",
      "aqui estou enviando para Yasminzinha Mini a mensagem no telefone  11951496374\n",
      "deu 1\n",
      "deu 2\n",
      "deu 3\n",
      "\n",
      "aqui estou enviando para Rog gério a mensagem no telefone 23456789\n",
      "deu 1\n",
      "deu 2\n",
      "deu 3\n",
      "\n",
      "aqui estou enviando para Rog gério a mensagem no telefone  11981317092\n",
      "deu 1\n",
      "deu 2\n",
      "deu 3\n",
      "concluido as 23:50\n"
     ]
    },
    {
     "data": {
      "text/html": [
       "<div>\n",
       "<style scoped>\n",
       "    .dataframe tbody tr th:only-of-type {\n",
       "        vertical-align: middle;\n",
       "    }\n",
       "\n",
       "    .dataframe tbody tr th {\n",
       "        vertical-align: top;\n",
       "    }\n",
       "\n",
       "    .dataframe thead th {\n",
       "        text-align: right;\n",
       "    }\n",
       "</style>\n",
       "<table border=\"1\" class=\"dataframe\">\n",
       "  <thead>\n",
       "    <tr style=\"text-align: right;\">\n",
       "      <th>2</th>\n",
       "      <th>CPF / CNPJ</th>\n",
       "      <th>TELEFONES</th>\n",
       "      <th>EMAIL</th>\n",
       "      <th>NOME NO CELULAR</th>\n",
       "      <th>NOME</th>\n",
       "      <th>STATUS WHATSAPP</th>\n",
       "      <th>STATUS EMAIL</th>\n",
       "    </tr>\n",
       "  </thead>\n",
       "  <tbody>\n",
       "    <tr>\n",
       "      <th>0</th>\n",
       "      <td>NaN</td>\n",
       "      <td>55415865, 4254854445, 11982662870</td>\n",
       "      <td>NaN</td>\n",
       "      <td>NaN</td>\n",
       "      <td>sergio pj</td>\n",
       "      <td>enviado, enviado, enviado,</td>\n",
       "      <td>NaN</td>\n",
       "    </tr>\n",
       "    <tr>\n",
       "      <th>1</th>\n",
       "      <td>NaN</td>\n",
       "      <td>43215432, 11951496374</td>\n",
       "      <td>NaN</td>\n",
       "      <td>NaN</td>\n",
       "      <td>Yasminzinha Mini</td>\n",
       "      <td>enviado, enviado,</td>\n",
       "      <td>NaN</td>\n",
       "    </tr>\n",
       "    <tr>\n",
       "      <th>2</th>\n",
       "      <td>NaN</td>\n",
       "      <td>23456789, 11981317092</td>\n",
       "      <td>NaN</td>\n",
       "      <td>NaN</td>\n",
       "      <td>Rog gério</td>\n",
       "      <td>enviado, enviado,</td>\n",
       "      <td>NaN</td>\n",
       "    </tr>\n",
       "  </tbody>\n",
       "</table>\n",
       "</div>"
      ],
      "text/plain": [
       "2 CPF / CNPJ                          TELEFONES EMAIL NOME NO CELULAR  \\\n",
       "0        NaN  55415865, 4254854445, 11982662870   NaN             NaN   \n",
       "1        NaN              43215432, 11951496374   NaN             NaN   \n",
       "2        NaN              23456789, 11981317092   NaN             NaN   \n",
       "\n",
       "2              NOME             STATUS WHATSAPP STATUS EMAIL  \n",
       "0         sergio pj  enviado, enviado, enviado,          NaN  \n",
       "1  Yasminzinha Mini           enviado, enviado,          NaN  \n",
       "2         Rog gério           enviado, enviado,          NaN  "
      ]
     },
     "metadata": {},
     "output_type": "display_data"
    }
   ],
   "source": [
    "contador = 0\n",
    "\n",
    "print(f'inicio em {horario()}')\n",
    "for cliente in base.index:\n",
    "    contador += 1\n",
    "    nome = base.loc[cliente, 'NOME']\n",
    "    lista_telefones = base.loc[cliente,'TELEFONES'].split(',')\n",
    "    for telefone in lista_telefones:\n",
    "        if telefone != '':\n",
    "            procura_contato(nome, telefone)\n",
    "    if contador % 5 == 0:\n",
    "        contador = 0\n",
    "        base.to_excel('baseteste.xlsx')\n",
    "print(f'concluido as {horario()}')\n",
    "base['STATUS WHATSAPP'] = base['STATUS WHATSAPP'].str[:-1]"
   ]
  },
  {
   "cell_type": "markdown",
   "id": "29878e44",
   "metadata": {},
   "source": [
    "## Salva retorno da base"
   ]
  },
  {
   "cell_type": "code",
   "execution_count": null,
   "id": "3e381498",
   "metadata": {},
   "outputs": [],
   "source": [
    "base.to_excel('baseteste.xlsx')"
   ]
  },
  {
   "cell_type": "code",
   "execution_count": null,
   "id": "76a62e2a",
   "metadata": {},
   "outputs": [],
   "source": [
    "\n"
   ]
  },
  {
   "cell_type": "code",
   "execution_count": null,
   "id": "34dd8d80",
   "metadata": {},
   "outputs": [],
   "source": []
  },
  {
   "cell_type": "code",
   "execution_count": null,
   "id": "254004c5",
   "metadata": {},
   "outputs": [],
   "source": []
  },
  {
   "cell_type": "code",
   "execution_count": null,
   "id": "27c466bc",
   "metadata": {},
   "outputs": [],
   "source": []
  }
 ],
 "metadata": {
  "kernelspec": {
   "display_name": "Python 3 (ipykernel)",
   "language": "python",
   "name": "python3"
  },
  "language_info": {
   "codemirror_mode": {
    "name": "ipython",
    "version": 3
   },
   "file_extension": ".py",
   "mimetype": "text/x-python",
   "name": "python",
   "nbconvert_exporter": "python",
   "pygments_lexer": "ipython3",
   "version": "3.9.7"
  }
 },
 "nbformat": 4,
 "nbformat_minor": 5
}
