{
 "cells": [
  {
   "cell_type": "markdown",
   "id": "83c0efaf",
   "metadata": {},
   "source": [
    "## IMPORTAÇÕES"
   ]
  },
  {
   "cell_type": "code",
   "execution_count": null,
   "id": "26f2fdec",
   "metadata": {},
   "outputs": [],
   "source": [
    "\n",
    "from selenium import webdriver\n",
    "from selenium.webdriver.chrome.service import Service\n",
    "from webdriver_manager.chrome import ChromeDriverManager\n",
    "from selenium.webdriver.common.by import By\n",
    "from selenium.webdriver.common.keys import Keys\n",
    "\n",
    "\n",
    "import time\n",
    "import pandas as pd\n",
    "import random\n",
    "from datetime import datetime\n",
    "\n",
    "\n",
    "\n"
   ]
  },
  {
   "cell_type": "markdown",
   "id": "093feefa",
   "metadata": {},
   "source": [
    "## FUNÇÕES DE APOIO\n"
   ]
  },
  {
   "cell_type": "code",
   "execution_count": null,
   "id": "8fe17533",
   "metadata": {},
   "outputs": [],
   "source": [
    "print(f'inicio em {horario()}')\n",
    "for cliente in base.index:\n",
    "    nome = base.loc[cliente, 'NOME']\n",
    "    lista_telefones = base.loc[cliente,'TELEFONES'].split(',')\n",
    "    for telefone in lista_telefones:\n",
    "        if telefone != '':\n",
    "            print(f'telefone de {nome} capturado: {telefone.replace(\"(\",\"\").replace(\")\", \"\").replace(\" \", \"\")}, pode tentar enviar a mensagem')\n",
    "\n",
    "            \n",
    "            procura_contato(nome, telefone)\n",
    "print(f'concluido as {horario()}')"
   ]
  },
  {
   "cell_type": "code",
   "execution_count": null,
   "id": "3fab94ed",
   "metadata": {},
   "outputs": [],
   "source": [
    "def procura_contato(nome, telefone):\n",
    "    time.sleep(0.5)\n",
    "    cancela_busca = navegador.find_elements(By.XPATH, '//*[@id=\"side\"]/div[1]/div/div[2]/span/button/span')\n",
    "    if len(cancela_busca) > 0:\n",
    "        time.sleep(1.5)\n",
    "        navegador.find_element(By.XPATH, '//*[@id=\"side\"]/div[1]/div/div[2]/span/button/span').click()\n",
    "    \n",
    "    campo_pesquisa = navegador.find_element(By.CLASS_NAME, 'iq0m558w ')\n",
    "    campo_pesquisa.send_keys(telefone)\n",
    "    \n",
    "    try:\n",
    "        if navegador.find_element(By.CLASS_NAME, '_21S-L') ,\n",
    "        \n",
    "        ,,\n",
    "        \n",
    "        primeiro_retorno = navegador.find_element(By.CLASS_NAME, '_21S-L')\n",
    "        primeiro_retorno.click()        \n",
    "    except NoSuchElementException:\n",
    "        print('Não rolou')\n",
    "\n",
    "\n",
    "def envia_mensagem(texto):\n",
    "    secciona_mensagem = texto.split('#quebra#')\n",
    "    for pedaco in secciona_mensagem:\n",
    "        quebra_popup()\n",
    "        navegador.find_element(By.CLASS_NAME, '_3Uu1_').send_keys(pedaco, Keys.ENTER)\n",
    "        time.sleep(1.5)   \n",
    "        \n",
    "#         navegador.find_element(By.CLASS_NAME, '_3XKXx').click()\n",
    "        time.sleep(random.randrange(1,6,1))\n",
    "\n",
    "def quebra_popup():\n",
    "    if(len(navegador.find_elements(By.CLASS_NAME, 'r6au09pb'))>0):\n",
    "        time.sleep(0.3)\n",
    "        navegador.find_element(By.XPATH, '//*[@id=\"app\"]/div/span[2]/div/div/div/div/div/div/div[3]/div/button/div/div').click()\n",
    "\n",
    "def horario():\n",
    "    from datetime import datetime\n",
    "\n",
    "    # Obtenha o horário atual\n",
    "    horario_atual = datetime.now()\n",
    "\n",
    "    # Imprima o horário atual\n",
    "    return horario_atual.strftime('%H:%M:%S')\n",
    "    \n"
   ]
  },
  {
   "cell_type": "markdown",
   "id": "feb472fd",
   "metadata": {},
   "source": [
    "## DEFINIÇÃO DE VARIAVEIS"
   ]
  },
  {
   "cell_type": "code",
   "execution_count": null,
   "id": "58efe571",
   "metadata": {},
   "outputs": [],
   "source": [
    "nome = ''\n",
    "telefone = '1155415865'\n",
    "\n",
    "# mensagem = f'''\n",
    "# Cliente {nome}, somos da CAIXA - Agência Santo Eduardo do Embu, tudo bem?\n",
    "# #quebra#\n",
    "# Você que é beneficiário do LOAS pelo INSS, faça o desbloqueio do seu benefício no INSS e aproveite para fazer seu crédito consignado CAIXA com as menores taxas do  mercado.     \n",
    "# #quebra#                                    \n",
    "# Além disso, você pode ter um cartão de crédito CAIXA sem anuidade e com juros reduzidos.\n",
    "# #quebra#\n",
    "# Caso tenha interesse, responda esta mensagem ou compareça diretamente na agência sem pegar fila procurando por nossos gerentes Níger ou Aldecir.\n",
    "# #quebra#\n",
    "# Atenciosamente CAIXA - Agência Santo Eduardo do Embu - Av. João Paulo II, 1344 - Jardim Santa Tereza - Embu das Artes - SP \n",
    "# #quebra#\n",
    "# Lembrando que em breve estaremos novamente no bairro do Santo Eduardo, próximo à Drogaria São Paulo.'''\n",
    "\n",
    "\n"
   ]
  },
  {
   "cell_type": "markdown",
   "id": "5fbad38c",
   "metadata": {},
   "source": [
    "## IMPORTA E TRATA A BASE"
   ]
  },
  {
   "cell_type": "code",
   "execution_count": null,
   "id": "934549d8",
   "metadata": {},
   "outputs": [],
   "source": [
    "base = pd.read_excel('baseteste.xlsx')\n",
    "base.columns = base.iloc[2]\n",
    "base = base[3:]\n",
    "base = base.reset_index(drop=True)\n",
    "\n",
    "# display(base)\n",
    "contatados = pd.DataFrame(columns = ['NOME NO CELULAR', 'TELEFONE', 'STATUS WHATSAPP'])\n",
    "status = base.loc[0,'STATUS WHATSAPP']\n",
    "print(pd.isna(status))\n",
    "display(base)"
   ]
  },
  {
   "cell_type": "markdown",
   "id": "56e43d47",
   "metadata": {},
   "source": [
    "## CHAMADA DE NAVEGADOR"
   ]
  },
  {
   "cell_type": "code",
   "execution_count": null,
   "id": "9cc55a08",
   "metadata": {},
   "outputs": [],
   "source": [
    "servico = Service(version= '122')\n",
    "caminho_perfil = r'C:\\Users\\serci\\AppData\\Local\\Google\\Chrome\\User Data\\Profile Selenium'\n",
    "options = webdriver.ChromeOptions()\n",
    "options.add_argument(f'user-data-dir={caminho_perfil}')\n",
    "\n",
    "navegador = webdriver.Chrome(service=servico, options = options)\n",
    "navegador.get('https://web.whatsapp.com/')"
   ]
  },
  {
   "cell_type": "markdown",
   "id": "0f751ae8",
   "metadata": {},
   "source": [
    "  ## VARRE A BASE ENVIANDO MENSAGENS    "
   ]
  },
  {
   "cell_type": "code",
   "execution_count": null,
   "id": "6162e83d",
   "metadata": {},
   "outputs": [],
   "source": [
    "display(base)\n"
   ]
  },
  {
   "cell_type": "markdown",
   "id": "3750bd26",
   "metadata": {},
   "source": [
    "\n",
    "        \n",
    "        \n",
    "chrome://version\n"
   ]
  }
 ],
 "metadata": {
  "kernelspec": {
   "display_name": "Python 3 (ipykernel)",
   "language": "python",
   "name": "python3"
  },
  "language_info": {
   "codemirror_mode": {
    "name": "ipython",
    "version": 3
   },
   "file_extension": ".py",
   "mimetype": "text/x-python",
   "name": "python",
   "nbconvert_exporter": "python",
   "pygments_lexer": "ipython3",
   "version": "3.9.7"
  }
 },
 "nbformat": 4,
 "nbformat_minor": 5
}
